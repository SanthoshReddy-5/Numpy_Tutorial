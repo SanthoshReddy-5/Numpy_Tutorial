{
  "nbformat": 4,
  "nbformat_minor": 0,
  "metadata": {
    "colab": {
      "provenance": [],
      "authorship_tag": "ABX9TyOKFysTrJjONSjRlGM3HtoO",
      "include_colab_link": true
    },
    "kernelspec": {
      "name": "python3",
      "display_name": "Python 3"
    },
    "language_info": {
      "name": "python"
    }
  },
  "cells": [
    {
      "cell_type": "markdown",
      "metadata": {
        "id": "view-in-github",
        "colab_type": "text"
      },
      "source": [
        "<a href=\"https://colab.research.google.com/github/SanthoshReddy-5/Numpy_Tutorial/blob/main/Numpy_Tutorial.ipynb\" target=\"_parent\"><img src=\"https://colab.research.google.com/assets/colab-badge.svg\" alt=\"Open In Colab\"/></a>"
      ]
    },
    {
      "cell_type": "markdown",
      "source": [
        "**Array creation using python list and tuple**\n",
        "**numpy.array( ) function**"
      ],
      "metadata": {
        "id": "fr_1Z4Rf9kat"
      }
    },
    {
      "cell_type": "code",
      "source": [
        "#array creation\n",
        "import numpy\n",
        "#list\n",
        "list1=[1,2,3,4,5]\n",
        "print(\"list:\",list1)\n",
        "#tuple\n",
        "tuple1=(6,7,8,9,10)\n",
        "print(\"tuple:\",tuple1)\n",
        "arr1=numpy.array(list1)\n",
        "arr2=numpy.array(tuple1)\n",
        "print(\"array1:\",arr1)\n",
        "print(\"array2:\",arr2)"
      ],
      "metadata": {
        "colab": {
          "base_uri": "https://localhost:8080/"
        },
        "id": "CxSVGmrVHiDi",
        "outputId": "060f51e0-4515-401f-861c-3d6e944dcc94"
      },
      "execution_count": 16,
      "outputs": [
        {
          "output_type": "stream",
          "name": "stdout",
          "text": [
            "list: [1, 2, 3, 4, 5]\n",
            "tuple: (6, 7, 8, 9, 10)\n",
            "array1: [1 2 3 4 5]\n",
            "array2: [ 6  7  8  9 10]\n"
          ]
        }
      ]
    },
    {
      "cell_type": "markdown",
      "source": [
        "**numpy.zeros( ) function**"
      ],
      "metadata": {
        "id": "Mgl9pmpGAGnP"
      }
    },
    {
      "cell_type": "code",
      "source": [
        "#numpy.zeros()\n",
        "import numpy as np\n",
        "arr = np.zeros((2, 3),dtype=int)\n",
        "print(arr)"
      ],
      "metadata": {
        "colab": {
          "base_uri": "https://localhost:8080/"
        },
        "id": "1d2P28D7IaeP",
        "outputId": "ad2ccf52-b71e-4c2d-8268-fb434911ff23"
      },
      "execution_count": 17,
      "outputs": [
        {
          "output_type": "stream",
          "name": "stdout",
          "text": [
            "[[0 0 0]\n",
            " [0 0 0]]\n"
          ]
        }
      ]
    },
    {
      "cell_type": "markdown",
      "source": [
        "**numpy.ones( ) function**"
      ],
      "metadata": {
        "id": "-dux5qnZdZZx"
      }
    },
    {
      "cell_type": "code",
      "source": [
        "\n",
        "#numpy.ones() function\n",
        "import numpy as np\n",
        "arr = np.ones((2, 3),dtype=int)\n",
        "print(arr)"
      ],
      "metadata": {
        "id": "tSe3LOkwJaxz",
        "outputId": "b0bf7a55-ba67-4f59-aebe-8f86346ee533",
        "colab": {
          "base_uri": "https://localhost:8080/"
        }
      },
      "execution_count": 7,
      "outputs": [
        {
          "output_type": "stream",
          "name": "stdout",
          "text": [
            "[[1 1 1]\n",
            " [1 1 1]]\n"
          ]
        }
      ]
    },
    {
      "cell_type": "markdown",
      "source": [
        "**numpy.arange( ) function**"
      ],
      "metadata": {
        "id": "R1v7fRyaffjv"
      }
    },
    {
      "cell_type": "code",
      "source": [
        "\n",
        "#numpy.arange() function\n",
        "import numpy as np\n",
        "arr = np.arange(1, 10)\n",
        "print(arr)"
      ],
      "metadata": {
        "colab": {
          "base_uri": "https://localhost:8080/"
        },
        "id": "5Q2fP-5hovvH",
        "outputId": "37474306-0524-43dc-c164-e5904d2e2578"
      },
      "execution_count": 8,
      "outputs": [
        {
          "output_type": "stream",
          "name": "stdout",
          "text": [
            "[1 2 3 4 5 6 7 8 9]\n"
          ]
        }
      ]
    },
    {
      "cell_type": "markdown",
      "source": [
        "**numpy.linspace( ) function**"
      ],
      "metadata": {
        "id": "J_PAheXVgV2g"
      }
    },
    {
      "cell_type": "code",
      "source": [
        "\n",
        "#numpy.linspace() function\n",
        "import numpy as np\n",
        "arr = np.linspace(0, 5, 3)\n",
        "print(arr)\n",
        "arr=np.array(arr,dtype=int)\n",
        "print(arr)"
      ],
      "metadata": {
        "colab": {
          "base_uri": "https://localhost:8080/"
        },
        "id": "2mAzdKClpzqo",
        "outputId": "7ea8d766-2c0f-406a-a9b3-87b130f66192"
      },
      "execution_count": 10,
      "outputs": [
        {
          "output_type": "stream",
          "name": "stdout",
          "text": [
            "[0.  2.5 5. ]\n",
            "[0 2 5]\n"
          ]
        }
      ]
    },
    {
      "cell_type": "markdown",
      "source": [
        "**numpy.reshape( ) function**"
      ],
      "metadata": {
        "id": "WQjPQEpLg_FX"
      }
    },
    {
      "cell_type": "code",
      "source": [
        "\n",
        "#numpy.reshape() function\n",
        "import numpy as np\n",
        "arr = np.array([1, 2, 3, 4, 5, 6])\n",
        "print(arr)\n",
        "reshaped_arr= np.reshape(a, (2, 3))\n",
        "print(reshaped_arr)"
      ],
      "metadata": {
        "colab": {
          "base_uri": "https://localhost:8080/"
        },
        "id": "4M3ISwmEso65",
        "outputId": "bc2a1e23-784f-492a-82fe-6428b4d08f23"
      },
      "execution_count": 13,
      "outputs": [
        {
          "output_type": "stream",
          "name": "stdout",
          "text": [
            "[1 2 3 4 5 6]\n",
            "[[1 1 1]\n",
            " [1 1 1]]\n"
          ]
        }
      ]
    },
    {
      "cell_type": "code",
      "source": [
        "import numpy as np\n",
        "a = np.array([1, 2, 3, 4])\n",
        "result = np.resize(a, (3, 3))\n",
        "# result: array([[1, 2, 3],\n",
        "#                [4, 1, 2],\n",
        "#                [3, 4, 1]])\n",
        "print(result)"
      ],
      "metadata": {
        "colab": {
          "base_uri": "https://localhost:8080/"
        },
        "id": "2llUDPTctjqt",
        "outputId": "2f8b23f4-8d89-4eb1-9e30-3d7934ce8efc"
      },
      "execution_count": null,
      "outputs": [
        {
          "output_type": "stream",
          "name": "stdout",
          "text": [
            "[[1 2 3]\n",
            " [4 1 2]\n",
            " [3 4 1]]\n"
          ]
        }
      ]
    },
    {
      "cell_type": "code",
      "source": [
        "import numpy as np\n",
        "a = np.array([[1, 2, 3], [4, 5, 6]])\n",
        "b = np.array([[7, 8, 9], [10, 11, 12]])\n",
        "result = np.dstack((a, b))\n",
        "# result: array([[[ 1,  7],\n",
        "#                 [ 2,  8],\n",
        "#                 [ 3,  9]],\n",
        "#                [[ 4, 10],\n",
        "#                 [ 5, 11],\n",
        "#                 [ 6, 12]]])\n",
        "print (result)"
      ],
      "metadata": {
        "colab": {
          "base_uri": "https://localhost:8080/"
        },
        "id": "7ol9CU9-uRVs",
        "outputId": "abda9c5b-d687-4bfa-d536-d510c74c6c4f"
      },
      "execution_count": null,
      "outputs": [
        {
          "output_type": "stream",
          "name": "stdout",
          "text": [
            "[[[ 1  7]\n",
            "  [ 2  8]\n",
            "  [ 3  9]]\n",
            "\n",
            " [[ 4 10]\n",
            "  [ 5 11]\n",
            "  [ 6 12]]]\n"
          ]
        }
      ]
    },
    {
      "cell_type": "code",
      "source": [
        "import numpy as np\n",
        "a = np.array([1, 2, 3, 4, 5, 6])\n",
        "result = np.split(a, 3)\n",
        "# result: [array([1, 2]), array([3, 4]), array([5, 6])]\n",
        "print (result)"
      ],
      "metadata": {
        "colab": {
          "base_uri": "https://localhost:8080/"
        },
        "id": "_90tjSA0CqWq",
        "outputId": "5bf61c7d-c1a8-4d17-aa4f-8f6369e279b3"
      },
      "execution_count": null,
      "outputs": [
        {
          "output_type": "stream",
          "name": "stdout",
          "text": [
            "[array([1, 2]), array([3, 4]), array([5, 6])]\n"
          ]
        }
      ]
    },
    {
      "cell_type": "code",
      "source": [
        "import numpy as np\n",
        "\n",
        "a = np.array([1, 2, 3])\n",
        "b = 2\n",
        "result = a + b\n",
        "# result: array([3, 4, 5])\n",
        "print (result)"
      ],
      "metadata": {
        "colab": {
          "base_uri": "https://localhost:8080/"
        },
        "id": "G85ajOYhJDy7",
        "outputId": "8209ff7a-ffd2-4457-c94f-bd8c04f3e722"
      },
      "execution_count": null,
      "outputs": [
        {
          "output_type": "stream",
          "name": "stdout",
          "text": [
            "[3 4 5]\n"
          ]
        }
      ]
    },
    {
      "cell_type": "code",
      "source": [
        "import numpy as np\n",
        "\n",
        "a = np.array([[1, 2, 3], [4, 5, 6]])\n",
        "b = np.array([10, 20, 30])\n",
        "result = a + b\n",
        "# result: array([[11, 22, 33],\n",
        "#                [14, 25, 36]])\n",
        "print (result)"
      ],
      "metadata": {
        "colab": {
          "base_uri": "https://localhost:8080/"
        },
        "id": "xetI4u4_JIG_",
        "outputId": "dcbb3860-ad11-48fd-9d9f-cd2a1f3e94f6"
      },
      "execution_count": null,
      "outputs": [
        {
          "output_type": "stream",
          "name": "stdout",
          "text": [
            "[[11 22 33]\n",
            " [14 25 36]]\n"
          ]
        }
      ]
    },
    {
      "cell_type": "code",
      "source": [
        "import numpy as np\n",
        "\n",
        "a = np.array([[1, 2, 3], [4, 5, 6]])\n",
        "result = np.ravel(a)\n",
        "# result: array([1, 2,\n",
        "print ( result )"
      ],
      "metadata": {
        "colab": {
          "base_uri": "https://localhost:8080/"
        },
        "id": "MWy67bwMW-gS",
        "outputId": "f3858eae-38ec-4131-b88d-ea75337aacc9"
      },
      "execution_count": null,
      "outputs": [
        {
          "output_type": "stream",
          "name": "stdout",
          "text": [
            "[1 2 3 4 5 6]\n"
          ]
        }
      ]
    },
    {
      "cell_type": "code",
      "source": [
        "import numpy as np\n",
        "\n",
        "a = np.array([[1, 2, 3], [4, 5, 6]])\n",
        "result = a.flatten()\n",
        "# result: array([1, 2, 3, 4, 5, 6])\n",
        "print (result)"
      ],
      "metadata": {
        "colab": {
          "base_uri": "https://localhost:8080/"
        },
        "id": "V1-HwFhvXoo0",
        "outputId": "827af8ab-64a2-4ffc-cd05-7da0ef9e33f6"
      },
      "execution_count": null,
      "outputs": [
        {
          "output_type": "stream",
          "name": "stdout",
          "text": [
            "[1 2 3 4 5 6]\n"
          ]
        }
      ]
    },
    {
      "cell_type": "code",
      "source": [
        "import numpy as np\n",
        "\n",
        "a = np.array([[1], [2], [3]])  # Shape (3, 1)\n",
        "b = np.array([10, 20, 30])     # Shape (3,)\n",
        "result = a + b                 # Shape (3, 3) after broadcasting\n",
        "# result: array([[11, 21, 31],\n",
        "#                [12, 22, 32],\n",
        "#                [13, 23, 33]])\n",
        "print (result)"
      ],
      "metadata": {
        "colab": {
          "base_uri": "https://localhost:8080/"
        },
        "id": "FJ0DutOtLHp3",
        "outputId": "e086cc66-e087-4260-a443-20b0a703c4b7"
      },
      "execution_count": null,
      "outputs": [
        {
          "output_type": "stream",
          "name": "stdout",
          "text": [
            "[[11 21 31]\n",
            " [12 22 32]\n",
            " [13 23 33]]\n"
          ]
        }
      ]
    },
    {
      "cell_type": "code",
      "source": [
        "import numpy as np\n",
        "\n",
        "a = np.array([1, 2, 3])\n",
        "\n",
        "# Adding a new axis to create a 2D array (row vector)\n",
        "a_new = a[np.newaxis, :]\n",
        "# a_new: array([[1, 2, 3]])\n",
        "\n",
        "# Adding a new axis to create a 2D array (column vector)\n",
        "a_new_col = a[:, np.newaxis]\n",
        "# a_new_col: array([[1],\n",
        "#                   [2],\n",
        "#                   [3]])\n",
        "print(a_new_col)"
      ],
      "metadata": {
        "colab": {
          "base_uri": "https://localhost:8080/"
        },
        "id": "apHQcps3cv3D",
        "outputId": "ca762689-22c2-4e60-9393-1ec321656921"
      },
      "execution_count": null,
      "outputs": [
        {
          "output_type": "stream",
          "name": "stdout",
          "text": [
            "[[1]\n",
            " [2]\n",
            " [3]]\n"
          ]
        }
      ]
    },
    {
      "cell_type": "code",
      "source": [
        "import numpy as np\n",
        "\n",
        "a = np.array([1, 2, 3])\n",
        "\n",
        "# Adding a new axis to create a 2D array (row vector)\n",
        "a_new = np.expand_dims(a, axis=0)\n",
        "# a_new: array([[1, 2, 3]])\n",
        "\n",
        "# Adding a new axis to create a 2D array (column vector)\n",
        "a_new_col = np.expand_dims(a, axis=1)\n",
        "# a_new_col: array([[1],\n",
        "#                   [2],\n",
        "#                   [3]])\n",
        "print (a_new)\n",
        "print(a_new_col)"
      ],
      "metadata": {
        "colab": {
          "base_uri": "https://localhost:8080/"
        },
        "id": "YoNyHMw-dogm",
        "outputId": "847062ea-91c0-472c-b9f5-b4602aa5cd8d"
      },
      "execution_count": null,
      "outputs": [
        {
          "output_type": "stream",
          "name": "stdout",
          "text": [
            "[[1 2 3]]\n",
            "[[1]\n",
            " [2]\n",
            " [3]]\n"
          ]
        }
      ]
    },
    {
      "cell_type": "code",
      "source": [
        "import numpy as np\n",
        "a = np.array([[[1, 2, 3]], [[4, 5, 6]]])\n",
        "a_squeezed = np.squeeze(a)\n",
        "print (a_squeezed)"
      ],
      "metadata": {
        "colab": {
          "base_uri": "https://localhost:8080/"
        },
        "id": "B641b4rNfDJE",
        "outputId": "b13219c3-c84b-4ccc-a356-fbe5e21c3417"
      },
      "execution_count": null,
      "outputs": [
        {
          "output_type": "stream",
          "name": "stdout",
          "text": [
            "[[1 2 3]\n",
            " [4 5 6]]\n"
          ]
        }
      ]
    },
    {
      "cell_type": "code",
      "source": [
        "import numpy as np\n",
        "\n",
        "a = np.array([[1, 2, 3], [4, 5, 6]])\n",
        "result = np.transpose(a)\n",
        "# result: array([[1, 4],\n",
        "#                [2, 5],\n",
        "#                [3, 6]])\n",
        "# Original shape: (2, 3), Transposed shape: (3, 2)\n",
        "print(result)"
      ],
      "metadata": {
        "colab": {
          "base_uri": "https://localhost:8080/"
        },
        "id": "siX7V49phZAy",
        "outputId": "73287b55-b1ab-4055-84e0-dd1947e86061"
      },
      "execution_count": null,
      "outputs": [
        {
          "output_type": "stream",
          "name": "stdout",
          "text": [
            "[[1 4]\n",
            " [2 5]\n",
            " [3 6]]\n"
          ]
        }
      ]
    },
    {
      "cell_type": "code",
      "source": [
        "import numpy as np\n",
        "\n",
        "a = np.array([[[1, 2], [3, 4]], [[5, 6], [7, 8]]])\n",
        "result = np.swapaxes(a, 0, 1)\n",
        "# result: array([[[1, 2],\n",
        "#                 [5, 6]],\n",
        "#                [[3, 4],\n",
        "#                 [7, 8]]])\n",
        "# Swaps axis 0 and axis 1 of the original array\n",
        "print (result)"
      ],
      "metadata": {
        "colab": {
          "base_uri": "https://localhost:8080/"
        },
        "id": "xOo8jxcbiZQB",
        "outputId": "3077025b-69e8-4d6f-b123-8ab5e9e68415"
      },
      "execution_count": null,
      "outputs": [
        {
          "output_type": "stream",
          "name": "stdout",
          "text": [
            "[[[1 2]\n",
            "  [5 6]]\n",
            "\n",
            " [[3 4]\n",
            "  [7 8]]]\n"
          ]
        }
      ]
    },
    {
      "cell_type": "code",
      "source": [
        "import numpy as np\n",
        "\n",
        "data_2d = np.array([[1, 2, 3], [4, 5, 6], [7, 8, 9]])\n",
        "mean_axis1 = np.mean(data_2d, axis=1)\n",
        "# mean_axis1: array([2., 5., 8.])\n",
        "print(mean_axis1)"
      ],
      "metadata": {
        "colab": {
          "base_uri": "https://localhost:8080/"
        },
        "id": "IQg9MLuMH5fg",
        "outputId": "d1866f76-4d8f-49cb-a18f-3292b3bc1c3c"
      },
      "execution_count": null,
      "outputs": [
        {
          "output_type": "stream",
          "name": "stdout",
          "text": [
            "[2. 5. 8.]\n"
          ]
        }
      ]
    },
    {
      "cell_type": "code",
      "source": [
        "import numpy as np\n",
        "\n",
        "data_1d = np.array([1, 2, 3, 4, 5])\n",
        "mean_1d = np.mean(data_1d)\n",
        "# mean_1d: 3.0\n",
        "print(mean_1d)"
      ],
      "metadata": {
        "colab": {
          "base_uri": "https://localhost:8080/"
        },
        "id": "gyFI2JzSImPh",
        "outputId": "531a6577-f79c-42e3-8eff-a7658ef72110"
      },
      "execution_count": null,
      "outputs": [
        {
          "output_type": "stream",
          "name": "stdout",
          "text": [
            "3.0\n"
          ]
        }
      ]
    },
    {
      "cell_type": "code",
      "source": [
        "import numpy as np\n",
        "\n",
        "data = np.array([1, 2, 3, 4, 5])\n",
        "std_dev = np.std(data)\n",
        "# std_dev: 1.4142135623730951\n",
        "print (std_dev)"
      ],
      "metadata": {
        "colab": {
          "base_uri": "https://localhost:8080/"
        },
        "id": "eVkLH2CLKI9L",
        "outputId": "1020a121-8b9e-434f-eb70-6fa5b88416a3"
      },
      "execution_count": null,
      "outputs": [
        {
          "output_type": "stream",
          "name": "stdout",
          "text": [
            "1.4142135623730951\n"
          ]
        }
      ]
    },
    {
      "cell_type": "code",
      "source": [
        "import numpy as np\n",
        "\n",
        "data = np.array([1, 2, 3, 4, 5])\n",
        "variance = np.var(data, axis=None)\n",
        "# variance: 2.0\n",
        "print (variance)"
      ],
      "metadata": {
        "colab": {
          "base_uri": "https://localhost:8080/"
        },
        "id": "ERKYhd5EOghA",
        "outputId": "b46e345c-6d8d-4320-9a07-162f8e9fbd1c"
      },
      "execution_count": null,
      "outputs": [
        {
          "output_type": "stream",
          "name": "stdout",
          "text": [
            "2.0\n"
          ]
        }
      ]
    },
    {
      "cell_type": "code",
      "source": [
        "import numpy as np\n",
        "\n",
        "data = np.array([1, 2, 3, 4, 5])\n",
        "min_value = np.min(data)\n",
        "# min_value: 1\n",
        "print (min_value)"
      ],
      "metadata": {
        "colab": {
          "base_uri": "https://localhost:8080/"
        },
        "id": "JTqHnrI2Po-d",
        "outputId": "52ba9055-18ba-480a-d636-9a645d873157"
      },
      "execution_count": null,
      "outputs": [
        {
          "output_type": "stream",
          "name": "stdout",
          "text": [
            "1\n"
          ]
        }
      ]
    },
    {
      "cell_type": "code",
      "source": [
        "import numpy as np\n",
        "\n",
        "data = np.array([1, 2, 3, 4, 5])\n",
        "max_value = np.max(data)\n",
        "# max_value: 5\n",
        "print (max_value)"
      ],
      "metadata": {
        "colab": {
          "base_uri": "https://localhost:8080/"
        },
        "id": "6rgpv1ZAQc5C",
        "outputId": "ae97cb7d-f5ed-407c-dc0d-b499d0dedcc9"
      },
      "execution_count": null,
      "outputs": [
        {
          "output_type": "stream",
          "name": "stdout",
          "text": [
            "5\n"
          ]
        }
      ]
    },
    {
      "cell_type": "code",
      "source": [
        "import numpy as np\n",
        "\n",
        "data = np.array([1, 2, 3, 4, 5])\n",
        "total_sum = np.sum(data)\n",
        "# total_sum: 15\n",
        "print(total_sum)"
      ],
      "metadata": {
        "colab": {
          "base_uri": "https://localhost:8080/"
        },
        "id": "UvTqIeleSE5p",
        "outputId": "f1c8776e-e5c7-4976-9ce6-fdf9aaabd74a"
      },
      "execution_count": null,
      "outputs": [
        {
          "output_type": "stream",
          "name": "stdout",
          "text": [
            "15\n"
          ]
        }
      ]
    },
    {
      "cell_type": "code",
      "source": [
        "import numpy as np\n",
        "\n",
        "data = np.array([1, 2, 3, 4, 5])\n",
        "total_product = np.prod(data)\n",
        "# total_product: 120\n",
        "print (total_product)"
      ],
      "metadata": {
        "colab": {
          "base_uri": "https://localhost:8080/"
        },
        "id": "4OJ7iVitSfPe",
        "outputId": "2c87104e-3b27-4938-b973-f86038157c55"
      },
      "execution_count": null,
      "outputs": [
        {
          "output_type": "stream",
          "name": "stdout",
          "text": [
            "120\n"
          ]
        }
      ]
    },
    {
      "cell_type": "code",
      "source": [
        "import numpy as np\n",
        "\n",
        "data = np.array([1, 2, 3, 4, 5])\n",
        "percentile_50 = np.percentile(data, 50)\n",
        "# percentile_50: 5.0\n",
        "print(percentile_50)\n",
        "percentiles_25_75 = np.percentile(data, [25,50,75,100])\n",
        "# percentiles_25_75: array([3., 7.])\n",
        "print (percentiles_25_75)\n"
      ],
      "metadata": {
        "id": "cPDcc52cpgcd",
        "colab": {
          "base_uri": "https://localhost:8080/"
        },
        "outputId": "0a5049e0-2ab2-4be2-a91b-75eab076c662"
      },
      "execution_count": null,
      "outputs": [
        {
          "output_type": "stream",
          "name": "stdout",
          "text": [
            "3.0\n",
            "[2. 3. 4. 5.]\n"
          ]
        }
      ]
    },
    {
      "cell_type": "code",
      "source": [
        "import numpy as np\n",
        "\n",
        "x = np.array([1, 2, 3, 4, 5])\n",
        "y = np.array([2, 4, 6, 8, 10])\n",
        "correlation = np.corrcoef(x, y)\n",
        "# correlation: array([[1., 1.],\n",
        "#                     [1., 1.]])\n",
        "print (correlation)"
      ],
      "metadata": {
        "id": "ev3kEYj8ph30",
        "colab": {
          "base_uri": "https://localhost:8080/"
        },
        "outputId": "4b7b09e0-79f6-4785-c9e6-676b5c10fe80"
      },
      "execution_count": null,
      "outputs": [
        {
          "output_type": "stream",
          "name": "stdout",
          "text": [
            "[[1. 1.]\n",
            " [1. 1.]]\n"
          ]
        }
      ]
    },
    {
      "cell_type": "code",
      "source": [
        "import numpy as np\n",
        "\n",
        "data = np.array([[1, 2, 3], [4, 5, 6], [7, 8, 9]])\n",
        "\n",
        "# Biased estimate and each column represents a variable\n",
        "cov_combined = np.cov(data, bias=True, rowvar=False)\n",
        "print(\"Biased Covariance Matrix with rowvar=False:\")\n",
        "print(cov_combined)\n",
        "# Output:\n",
        "# Biased Covariance Matrix with rowvar=False:\n",
        "# [[6. 6. 6.]\n",
        "#  [6. 6. 6.]\n",
        "#  [6. 6. 6.]]"
      ],
      "metadata": {
        "id": "Qybbx86bpjgv",
        "colab": {
          "base_uri": "https://localhost:8080/"
        },
        "outputId": "d2041a58-6b79-4b4a-98c8-ab52b46d0e90"
      },
      "execution_count": null,
      "outputs": [
        {
          "output_type": "stream",
          "name": "stdout",
          "text": [
            "Biased Covariance Matrix with rowvar=False:\n",
            "[[6. 6. 6.]\n",
            " [6. 6. 6.]\n",
            " [6. 6. 6.]]\n"
          ]
        }
      ]
    },
    {
      "cell_type": "code",
      "source": [
        "import numpy as np\n",
        "\n",
        "angles = np.array([0,45,90 ])\n",
        "sine_values = np.sin(angles)\n",
        "# sine_values: array([0., 1., 0.])\n",
        "print (sine_values)\n",
        "print(np.cos(angles))\n",
        "print (np.tan(angles))\n",
        "\n",
        "\n"
      ],
      "metadata": {
        "id": "ZcoIze4xpl7E",
        "colab": {
          "base_uri": "https://localhost:8080/"
        },
        "outputId": "699aee09-7f62-484c-f45d-06b825f84374"
      },
      "execution_count": null,
      "outputs": [
        {
          "output_type": "stream",
          "name": "stdout",
          "text": [
            "[0.         0.85090352 0.89399666]\n",
            "[ 1.          0.52532199 -0.44807362]\n",
            "[ 0.          1.61977519 -1.99520041]\n"
          ]
        }
      ]
    },
    {
      "cell_type": "code",
      "source": [
        "import numpy as np\n",
        "\n",
        "values = np.array([0, 1, 2])\n",
        "exp_values = np.exp(values)\n",
        "# exp_values: array([ 1.        ,  2.71828183,  7.3890561 ])\n",
        "print(exp_values)"
      ],
      "metadata": {
        "colab": {
          "base_uri": "https://localhost:8080/"
        },
        "id": "e23a07kEFFH6",
        "outputId": "0cac782e-b63a-4cf0-a11b-3b443d82f54b"
      },
      "execution_count": null,
      "outputs": [
        {
          "output_type": "stream",
          "name": "stdout",
          "text": [
            "[1.         2.71828183 7.3890561 ]\n"
          ]
        }
      ]
    },
    {
      "cell_type": "code",
      "source": [
        "import numpy as np\n",
        "\n",
        "values = np.array([1, np.e, np.e**2])\n",
        "log_values = np.log(values)\n",
        "# log_values: array([0., 1., 2.])\n",
        "print (log_values)"
      ],
      "metadata": {
        "colab": {
          "base_uri": "https://localhost:8080/"
        },
        "id": "CSnWOmp1FNn0",
        "outputId": "e6aed3ef-821e-4992-c9b5-944b08a792eb"
      },
      "execution_count": null,
      "outputs": [
        {
          "output_type": "stream",
          "name": "stdout",
          "text": [
            "[0. 1. 2.]\n"
          ]
        }
      ]
    },
    {
      "cell_type": "code",
      "source": [
        "import numpy as np\n",
        "\n",
        "# Dot product of 1D arrays (vectors)\n",
        "vector_a = np.array([1, 2, 3])\n",
        "vector_b = np.array([4, 5, 6])\n",
        "dot_product = np.dot(vector_a, vector_b)\n",
        "# dot_product: 32\n",
        "print (dot_product)\n",
        "# Dot product (matrix multiplication) of 2D arrays\n",
        "matrix_a = np.array([[1, 2], [3, 4]])\n",
        "matrix_b = np.array([[5, 6], [7, 8]])\n",
        "dot_product_2d = np.dot(matrix_a, matrix_b)\n",
        "# dot_product_2d: array([[19, 22],\n",
        "#\n",
        "print(dot_product_2d)"
      ],
      "metadata": {
        "colab": {
          "base_uri": "https://localhost:8080/"
        },
        "id": "-eVUIXJHzEo-",
        "outputId": "b540c712-f7f7-4896-cb8b-16714f7ba2e3"
      },
      "execution_count": null,
      "outputs": [
        {
          "output_type": "stream",
          "name": "stdout",
          "text": [
            "32\n",
            "[[19 22]\n",
            " [43 50]]\n"
          ]
        }
      ]
    },
    {
      "cell_type": "code",
      "source": [
        "import numpy as np\n",
        "\n",
        "vector_a = np.array([1, 2, 3])\n",
        "vector_b = np.array([4, 5, 6])\n",
        "outer_product = np.outer(vector_a, vector_b)\n",
        "# outer_product: array([[ 4,  5,  6],\n",
        "#                       [ 8, 10, 12],\n",
        "#                       [12, 15, 18]])\n",
        "print (outer_product)"
      ],
      "metadata": {
        "colab": {
          "base_uri": "https://localhost:8080/"
        },
        "id": "lZcQf7WE5J-Z",
        "outputId": "371ae0bd-1118-4cff-bee5-3c63fa3cc80b"
      },
      "execution_count": null,
      "outputs": [
        {
          "output_type": "stream",
          "name": "stdout",
          "text": [
            "[[ 4  5  6]\n",
            " [ 8 10 12]\n",
            " [12 15 18]]\n"
          ]
        }
      ]
    },
    {
      "cell_type": "code",
      "source": [
        "import numpy as np\n",
        "\n",
        "# Inner product of 1D arrays (vectors)\n",
        "vector_a = np.array([1, 2, 3])\n",
        "vector_b = np.array([4, 5, 6])\n",
        "inner_product = np.inner(vector_a, vector_b)\n",
        "# inner_product: 32\n",
        "print(inner_product)\n",
        "# Inner product of 2D arrays\n",
        "matrix_a = np.array([[1, 2], [3, 4]])\n",
        "matrix_b = np.array([[5, 6], [7, 8]])\n",
        "inner_product_2d = np.inner(matrix_a, matrix_b)\n",
        "# inner_product_2d: array([[17, 23],\n",
        "#                          [39, 53]])\n",
        "print(inner_product_2d)"
      ],
      "metadata": {
        "colab": {
          "base_uri": "https://localhost:8080/"
        },
        "id": "lcI9fr_B5WDZ",
        "outputId": "f2f0d731-e8bd-4847-e6d8-cf1a4c69be5b"
      },
      "execution_count": null,
      "outputs": [
        {
          "output_type": "stream",
          "name": "stdout",
          "text": [
            "32\n",
            "[[17 23]\n",
            " [39 53]]\n"
          ]
        }
      ]
    },
    {
      "cell_type": "code",
      "source": [
        "import numpy as np\n",
        "\n",
        "# Coefficient matrix\n",
        "A = np.array([[3, 1], [1, 2]])\n",
        "\n",
        "# Ordinate values\n",
        "B = np.array([9, 8])\n",
        "\n",
        "# Solve for x\n",
        "x = np.linalg.solve(A, B)\n",
        "# x: array([2., 3.])\n",
        "print(x)"
      ],
      "metadata": {
        "colab": {
          "base_uri": "https://localhost:8080/"
        },
        "id": "Wq2j2kMO8voz",
        "outputId": "9abf3d47-6e9a-4d9f-adcf-f27b8da1526f"
      },
      "execution_count": null,
      "outputs": [
        {
          "output_type": "stream",
          "name": "stdout",
          "text": [
            "[2. 3.]\n"
          ]
        }
      ]
    },
    {
      "cell_type": "code",
      "source": [
        "import numpy as np\n",
        "\n",
        "# Square matrix\n",
        "A = np.array([[1, 2], [3, 4]])\n",
        "\n",
        "# Compute the inverse\n",
        "A_inv = np.linalg.inv(A)\n",
        "# A_inv: array([[-2. ,  1. ],\n",
        "#               [ 1.5, -0.5]])\n",
        "print (A_inv)"
      ],
      "metadata": {
        "colab": {
          "base_uri": "https://localhost:8080/"
        },
        "id": "u6Xjcg7I5ZXs",
        "outputId": "494c4e32-e60b-493d-a4bd-4dedc22b3efa"
      },
      "execution_count": null,
      "outputs": [
        {
          "output_type": "stream",
          "name": "stdout",
          "text": [
            "[[-2.   1. ]\n",
            " [ 1.5 -0.5]]\n"
          ]
        }
      ]
    },
    {
      "cell_type": "code",
      "source": [
        "import numpy as np\n",
        "\n",
        "# Square matrix\n",
        "A = np.array([[1, 2], [3, 4]])\n",
        "\n",
        "# Compute eigenvalues and eigenvectors\n",
        "eigenvalues, eigenvectors = np.linalg.eig(A)\n",
        "# eigenvalues: array([-0.37228132,  5.37228132])\n",
        "# eigenvectors: array([[-0.82456484, -0.41597356],\n",
        "#                      [ 0.56576746, -0.90937671]])\n",
        "print (eigenvalues)\n",
        "print(eigenvectors)"
      ],
      "metadata": {
        "colab": {
          "base_uri": "https://localhost:8080/"
        },
        "id": "SPR3T1GA-CI3",
        "outputId": "92da8f80-754b-4494-b717-d413e08078e4"
      },
      "execution_count": null,
      "outputs": [
        {
          "output_type": "stream",
          "name": "stdout",
          "text": [
            "[-0.37228132  5.37228132]\n",
            "[[-0.82456484 -0.41597356]\n",
            " [ 0.56576746 -0.90937671]]\n"
          ]
        }
      ]
    },
    {
      "cell_type": "code",
      "source": [
        "import numpy as np\n",
        "\n",
        "# Matrix to be decomposed\n",
        "A = np.array([[1, 2], [3, 4], [5, 6]])\n",
        "\n",
        "# Perform SVD\n",
        "U, S, Vt = np.linalg.svd(A)\n",
        "print(\"U:\", U)\n",
        "print(\"S:\", S)\n",
        "print(\"Vt:\", Vt)\n",
        "# Output:\n",
        "# U: [[-0.2298477   0.88346102  0.40824829]\n",
        "#     [-0.52474482  0.24078249 -0.81649658]\n",
        "#     [-0.81964194 -0.40189603  0.40824829]]\n",
        "# S: [9.52551809 0.51430058]\n",
        "# Vt: [[-0.61962948 -0.78489445]\n",
        "#      [-0.78489445  0.61962948]]\n",
        "\n",
        "\n"
      ],
      "metadata": {
        "colab": {
          "base_uri": "https://localhost:8080/"
        },
        "id": "SkH5qYeVrEsA",
        "outputId": "7afa8cef-89ae-4aa5-aef3-26ad4a808e0e"
      },
      "execution_count": null,
      "outputs": [
        {
          "output_type": "stream",
          "name": "stdout",
          "text": [
            "U: [[-0.2298477   0.88346102  0.40824829]\n",
            " [-0.52474482  0.24078249 -0.81649658]\n",
            " [-0.81964194 -0.40189603  0.40824829]]\n",
            "S: [9.52551809 0.51430058]\n",
            "Vt: [[-0.61962948 -0.78489445]\n",
            " [-0.78489445  0.61962948]]\n"
          ]
        }
      ]
    },
    {
      "cell_type": "code",
      "source": [
        "import numpy as np\n",
        "\n",
        "# Symmetric, positive-definite matrix\n",
        "A = np.array([[4, 12, -16],\n",
        "              [12, 37, -43],\n",
        "              [-16, -43, 98]])\n",
        "\n",
        "# Perform Cholesky decomposition\n",
        "L = np.linalg.cholesky(A)\n",
        "print(\"L:\", L)\n",
        "# Output:\n",
        "# L: [[ 2.  0.  0.]\n",
        "#     [ 6.  1.  0.]\n",
        "#     [-8.  5.  3.]]"
      ],
      "metadata": {
        "colab": {
          "base_uri": "https://localhost:8080/"
        },
        "id": "7IEuJcURtgh6",
        "outputId": "4026a690-b51f-4069-905b-ef699584e133"
      },
      "execution_count": null,
      "outputs": [
        {
          "output_type": "stream",
          "name": "stdout",
          "text": [
            "L: [[ 2.  0.  0.]\n",
            " [ 6.  1.  0.]\n",
            " [-8.  5.  3.]]\n"
          ]
        }
      ]
    },
    {
      "cell_type": "code",
      "source": [
        "import numpy as np\n",
        "\n",
        "# Generate a single random float\n",
        "random_float = np.random.random()\n",
        "print(random_float)\n",
        "# Output: A single random float between 0.0 and 1.0\n",
        "\n",
        "# Generate a 2x3 array of random floats\n",
        "random_array = np.random.random((2, 2))\n",
        "print(random_array)\n",
        "# Output: A 2x3 array of random floats"
      ],
      "metadata": {
        "colab": {
          "base_uri": "https://localhost:8080/"
        },
        "id": "s-ssiL16OeSG",
        "outputId": "4a9b68fe-3900-46bf-9e45-3f7084e72a37"
      },
      "execution_count": null,
      "outputs": [
        {
          "output_type": "stream",
          "name": "stdout",
          "text": [
            "0.93391020756702\n",
            "[[0.76641785 0.20512356]\n",
            " [0.78963346 0.72882907]]\n"
          ]
        }
      ]
    },
    {
      "cell_type": "code",
      "source": [
        "import numpy as np\n",
        "\n",
        "# Generate a single random sample from a uniform distribution\n",
        "sample = np.random.uniform()\n",
        "print(sample)\n",
        "\n",
        "# Generate a 2x3 array of random samples from a uniform distribution between 10 and 20\n",
        "samples = np.random.uniform(low=10.0, high=20.0, size=(2))\n",
        "print(samples)"
      ],
      "metadata": {
        "colab": {
          "base_uri": "https://localhost:8080/"
        },
        "id": "i75381z2WAR1",
        "outputId": "7f9df60f-f5b7-4a49-bf74-eb70d19296c1"
      },
      "execution_count": null,
      "outputs": [
        {
          "output_type": "stream",
          "name": "stdout",
          "text": [
            "0.4660086472527343\n",
            "[13.67394912 15.99222982]\n"
          ]
        }
      ]
    },
    {
      "cell_type": "code",
      "source": [
        "import numpy as np\n",
        "\n",
        "# Generate a single random integer between 0 and 10\n",
        "random_int = np.random.randint(0, 10)\n",
        "print(random_int)\n",
        "# Output: A single random integer between 0 and 9\n",
        "\n",
        "# Generate a 2x3 array of random integers between 0 and 10\n",
        "random_int_array = np.random.randint(0, 10, size=(2, 3))\n",
        "print(random_int_array)\n",
        "# Output: A 2x3 array of random integers between 0 and 9"
      ],
      "metadata": {
        "colab": {
          "base_uri": "https://localhost:8080/"
        },
        "id": "IS4fMWQgP_XR",
        "outputId": "20f0b653-b0ba-495e-ce8e-6ae81e212033"
      },
      "execution_count": null,
      "outputs": [
        {
          "output_type": "stream",
          "name": "stdout",
          "text": [
            "9\n",
            "[[4 9 1]\n",
            " [6 4 2]]\n"
          ]
        }
      ]
    },
    {
      "cell_type": "code",
      "source": [
        "import numpy as np\n",
        "\n",
        "# Generate a single random choice from the array [1, 2, 3, 4, 5]\n",
        "random_choice = np.random.choice([1, 2, 3, 4, 5])\n",
        "print(random_choice)\n",
        "# Output: A single random value from the array\n",
        "\n",
        "# Generate a 2x3 array of random choices from the array [1, 2, 3, 4, 5]\n",
        "random_choice_array = np.random.choice([1, 2, 3, 4, 5], size=(2, 3))\n",
        "print(random_choice_array)\n",
        "# Output: A 2x3 array of random choices from the array"
      ],
      "metadata": {
        "colab": {
          "base_uri": "https://localhost:8080/"
        },
        "id": "LhpcQFwsRM0T",
        "outputId": "573f4856-298f-453b-c5ab-47655e2d546d"
      },
      "execution_count": null,
      "outputs": [
        {
          "output_type": "stream",
          "name": "stdout",
          "text": [
            "4\n",
            "[[4 2 5]\n",
            " [1 2 1]]\n"
          ]
        }
      ]
    },
    {
      "cell_type": "code",
      "source": [
        "import numpy as np\n",
        "\n",
        "# Set the random seed to 42\n",
        "np.random.seed(61)\n",
        "\n",
        "# Generate a single random float\n",
        "random_float = np.random.random()\n",
        "print(random_float)\n",
        "# Output: The same random float every time the seed is set to 42\n",
        "\n",
        "# Generate a 2x3 array of random floats\n",
        "random_array = np.random.random((2, 1))\n",
        "print(random_array)\n",
        "# Output: The same 2x3 array of random floats every time the seed is set to 42"
      ],
      "metadata": {
        "colab": {
          "base_uri": "https://localhost:8080/"
        },
        "id": "s0nUX66-SJwY",
        "outputId": "fd0321e5-ca40-4ed2-8be9-7e7897b6cbf0"
      },
      "execution_count": null,
      "outputs": [
        {
          "output_type": "stream",
          "name": "stdout",
          "text": [
            "0.8244694759132818\n",
            "[[0.18134973]\n",
            " [0.87732677]]\n"
          ]
        }
      ]
    },
    {
      "cell_type": "code",
      "source": [
        "import numpy as np\n",
        "\n",
        "# Generate a single random sample from a normal distribution\n",
        "sample = np.random.normal()\n",
        "print(sample)\n",
        "\n",
        "# Generate a 2x3 array of random samples from a normal distribution with mean 5 and standard deviation 2\n",
        "samples = np.random.normal(loc=5.0, scale=2.0, size=(2, 1))\n",
        "print(samples)"
      ],
      "metadata": {
        "colab": {
          "base_uri": "https://localhost:8080/"
        },
        "id": "IhYWdS-lUB0c",
        "outputId": "50941b18-81e5-441f-ec39-4e051a0ac93a"
      },
      "execution_count": null,
      "outputs": [
        {
          "output_type": "stream",
          "name": "stdout",
          "text": [
            "-0.03550191085541864\n",
            "[[ 2.18879587]\n",
            " [-0.28523715]]\n"
          ]
        }
      ]
    },
    {
      "cell_type": "code",
      "source": [
        "import numpy as np\n",
        "\n",
        "# Generate a single random sample from a binomial distribution with 10 trials and probability of success 0.5\n",
        "sample = np.random.binomial(n=10, p=0.5)\n",
        "print(sample)\n",
        "\n",
        "# Generate a 2x3 array of random samples from a binomial distribution with 20 trials and probability of success 0.3\n",
        "samples = np.random.binomial(n=20, p=0.3, size=(2, 3))\n",
        "print(samples)"
      ],
      "metadata": {
        "colab": {
          "base_uri": "https://localhost:8080/"
        },
        "id": "3SIRAfnfWzzC",
        "outputId": "1ff0e992-ebc6-45f1-a14d-8c9700957182"
      },
      "execution_count": null,
      "outputs": [
        {
          "output_type": "stream",
          "name": "stdout",
          "text": [
            "6\n",
            "[[ 4  6  5]\n",
            " [ 4 10  6]]\n"
          ]
        }
      ]
    }
  ]
}